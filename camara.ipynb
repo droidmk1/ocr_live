{
  "nbformat": 4,
  "nbformat_minor": 0,
  "metadata": {
    "colab": {
      "provenance": []
    },
    "kernelspec": {
      "name": "python3",
      "display_name": "Python 3"
    },
    "language_info": {
      "name": "python"
    }
  },
  "cells": [
    {
      "cell_type": "code",
      "execution_count": null,
      "metadata": {
        "id": "wkxp76UQlasg"
      },
      "outputs": [],
      "source": [
        "import cv2"
      ]
    },
    {
      "cell_type": "code",
      "source": [
        "url = \"http://192.168.1.50:8080/video\"\n",
        "cap = cv2.VideoCapture(url)\n",
        "\n",
        "while(cap.isOpened()):\n",
        "  camera, frame = cap.read()\n",
        "  try:\n",
        "    cv2.imshow('Imagen',\n",
        "               cv2.resize(frame,\n",
        "                          (600,400)))\n",
        "    key = cv2.waitKey(1)\n",
        "    if key == ord('q'):\n",
        "      break\n",
        "\n",
        "  except cv2.error:\n",
        "    print(\"fin\")\n",
        "    break\n",
        "\n",
        "cv2.destroyAllWindows()\n",
        "\n"
      ],
      "metadata": {
        "id": "Wsfxej6qay47"
      },
      "execution_count": null,
      "outputs": []
    }
  ]
}