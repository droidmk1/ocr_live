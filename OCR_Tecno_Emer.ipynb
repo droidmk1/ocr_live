{
  "cells": [
    {
      "cell_type": "code",
      "execution_count": null,
      "metadata": {
        "colab": {
          "base_uri": "https://localhost:8080/"
        },
        "id": "_8W8hHAROhrq",
        "outputId": "e5b18609-43a5-41cd-c6ff-b1b313abd649"
      },
      "outputs": [],
      "source": [
        "# !pip install pyttsx3\n",
        "# !pip install opencv-contrib-python\n",
        "# !pip install pytesseract\n",
        "# !pip install pygame\n",
        "# !pip install playsound\n",
        "# !pip install gTTS\n",
        "# !pip install tesseract\n",
        "# !pip install pygobject\n",
        "\n",
        "# !sudo apt install tesseract-ocr-spa\n",
        "# !sudo apt install libespeak-dev"
      ]
    },
    {
      "cell_type": "code",
      "execution_count": null,
      "metadata": {
        "id": "Axuh40AKQYFj"
      },
      "outputs": [],
      "source": [
        "import cv2\n",
        "import pyttsx3\n",
        "import pytesseract #Extracion de textos\n",
        "from PIL import Image\n",
        "from matplotlib import pyplot as plt\n",
        "from playsound import playsound\n",
        "from gtts import gTTS\n",
        "import os"
      ]
    },
    {
      "cell_type": "code",
      "execution_count": null,
      "metadata": {
        "id": "KUIK3M5dRXb7"
      },
      "outputs": [],
      "source": [
        "Image_File = \"prueba1.jpg\"\n",
        "\n",
        "Img = cv2.imread(Image_File)\n",
        "\n",
        "#abrir imagen\n",
        "\n",
        "def display(Im_path):\n",
        "  dpi = 99 #redimensionamos\n",
        "  im_data = plt.imread(Im_path) #leer archivos jpg\n",
        "\n",
        "  height, width = im_data.shape[:2] #obtenemos las dimensiones\n",
        "\n",
        "  figsize = width / float(dpi), height / float(dpi)\n",
        "\n",
        "  fig = plt.figure(figsize = figsize)\n",
        "  ax = fig.add_axes([0,0,1,1]) #agregamos los ejes\n",
        "\n",
        "  ax.axis('off')\n",
        "\n",
        "  ax.imshow(im_data)\n",
        "\n",
        "  plt.show()"
      ]
    },
    {
      "cell_type": "code",
      "execution_count": null,
      "metadata": {
        "colab": {
          "base_uri": "https://localhost:8080/",
          "height": 1000
        },
        "id": "dNS9GsOAVO4Z",
        "outputId": "342b9830-2aa6-4959-c940-43ddd8be16ad"
      },
      "outputs": [],
      "source": [
        "display(Image_File)"
      ]
    },
    {
      "cell_type": "code",
      "execution_count": null,
      "metadata": {
        "colab": {
          "base_uri": "https://localhost:8080/",
          "height": 1000
        },
        "id": "3j6JJjmVRS7E",
        "outputId": "b69589a7-67cb-4a53-cb77-0ccfb18f5366"
      },
      "outputs": [],
      "source": [
        "#invertimos la imagen\n",
        "\n",
        "inverted_image = cv2.bitwise_not(Img)\n",
        "cv2.imwrite(\"inverted.jpg\", inverted_image)\n",
        "display(\"inverted.jpg\")"
      ]
    },
    {
      "cell_type": "code",
      "execution_count": null,
      "metadata": {
        "colab": {
          "base_uri": "https://localhost:8080/",
          "height": 1000
        },
        "id": "5sTD81MNSz_Z",
        "outputId": "211a1ede-871e-4b3a-aa76-809f2f61f002"
      },
      "outputs": [],
      "source": [
        "#Binarizacion\n",
        "\n",
        "def grayscale(image):\n",
        "  return cv2.cvtColor(image, cv2.COLOR_BGR2GRAY)\n",
        "\n",
        "\n",
        "gray_image = grayscale(Img)\n",
        "cv2.imwrite(\"gray_image.jpg\", gray_image)\n",
        "display(\"gray_image.jpg\")\n"
      ]
    },
    {
      "cell_type": "code",
      "execution_count": null,
      "metadata": {
        "colab": {
          "base_uri": "https://localhost:8080/",
          "height": 1000
        },
        "id": "wNCKITFJU4Oa",
        "outputId": "da4031cb-9562-4bc0-91ae-a73eb23fc4e5"
      },
      "outputs": [],
      "source": [
        "#\n",
        "\n",
        "thresh, im_bw = cv2.threshold(gray_image,180,255,cv2.THRESH_BINARY)\n",
        "\n",
        "cv2.imwrite(\"bw_image.jpg\", im_bw)\n",
        "display(\"bw_image.jpg\")"
      ]
    },
    {
      "cell_type": "code",
      "execution_count": null,
      "metadata": {},
      "outputs": [],
      "source": [
        "pytesseract.pytesseract.tesseract_cmd = r'C:/Program Files/Tesseract-OCR/tesseract.exe'"
      ]
    },
    {
      "cell_type": "code",
      "execution_count": null,
      "metadata": {
        "colab": {
          "base_uri": "https://localhost:8080/"
        },
        "id": "TxTQSQjBV8vM",
        "outputId": "dc2a06be-6635-4138-eb9a-e1e860725429"
      },
      "outputs": [],
      "source": [
        "#pytesseract\n",
        "\n",
        "gray = \"bw_image.jpg\"\n",
        "\n",
        "Img = Image.open(gray)\n",
        "\n",
        "ocr_result = pytesseract.image_to_string(Img, lang=\"spa\")\n",
        "print(ocr_result)"
      ]
    },
    {
      "cell_type": "code",
      "execution_count": null,
      "metadata": {},
      "outputs": [],
      "source": []
    },
    {
      "cell_type": "code",
      "execution_count": null,
      "metadata": {
        "id": "xzY5e_t2XG9U"
      },
      "outputs": [],
      "source": [
        "f = open ('texto_ocr.txt','w')\n",
        "f.write(ocr_result)\n",
        "f.close()"
      ]
    },
    {
      "cell_type": "code",
      "execution_count": null,
      "metadata": {
        "id": "SGJWPdHlY2Xi"
      },
      "outputs": [],
      "source": [
        "engine = pyttsx3.init()\n",
        "engine.setProperty(\"rate\",150)\n",
        "engine.say(ocr_result)\n",
        "output_file = \"audio.mp3\"\n",
        "engine.save_to_file(ocr_result, output_file)\n",
        "engine.runAndWait()"
      ]
    }
  ],
  "metadata": {
    "colab": {
      "provenance": []
    },
    "kernelspec": {
      "display_name": "Python 3",
      "name": "python3"
    },
    "language_info": {
      "codemirror_mode": {
        "name": "ipython",
        "version": 3
      },
      "file_extension": ".py",
      "mimetype": "text/x-python",
      "name": "python",
      "nbconvert_exporter": "python",
      "pygments_lexer": "ipython3",
      "version": "3.9.9"
    }
  },
  "nbformat": 4,
  "nbformat_minor": 0
}
