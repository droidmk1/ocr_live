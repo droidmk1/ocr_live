{
 "cells": [
  {
   "cell_type": "code",
   "execution_count": null,
   "metadata": {},
   "outputs": [],
   "source": [
    "import os\n",
    "import cv2\n",
    "import pytesseract\n",
    "from gtts import gTTS\n",
    "import pygame\n",
    "import time"
   ]
  },
  {
   "cell_type": "code",
   "execution_count": null,
   "metadata": {},
   "outputs": [],
   "source": [
    "# # Obtener una lista de todas las cámaras disponibles\n",
    "# available_cameras = []\n",
    "# for i in range(10):  # Intenta hasta 10 cámaras (puedes ajustar este valor según tus necesidades)\n",
    "#     cap = cv2.VideoCapture(i)\n",
    "#     if cap.isOpened():\n",
    "#         available_cameras.append(i)\n",
    "#         cap.release()\n",
    "\n",
    "# # Imprime las cámaras disponibles\n",
    "# print(\"Cámaras disponibles:\", available_cameras)"
   ]
  },
  {
   "cell_type": "code",
   "execution_count": null,
   "metadata": {},
   "outputs": [],
   "source": [
    "# # Configura TESSDATA_PREFIX\n",
    "# pytesseract.pytesseract.tesseract_cmd = r'C:\\Program Files\\Tesseract-OCR\\tesseract.exe'  # Ruta a Tesseract en Windows\n",
    "# pytesseract.pytesseract.tessdata_dir_config = '--tessdata-dir \"C:\\Program Files\\Tesseract-OCR\\tessdata\"'\n",
    "\n",
    "# # Especifica el idioma que deseas utilizar en el OCR\n",
    "idioma_ocr = 'spa'  # Cambia 'spa' por el código de idioma que necesitas (por ejemplo, 'en' para inglés)\n",
    "idioma_tts = 'es'\n",
    "\n",
    "# Elige la cámara que deseas usar\n",
    "camera_index = 1  # Cambia esto al índice de la cámara que desees utilizar (por ejemplo, 0 para la primera cámara)"
   ]
  },
  {
   "cell_type": "code",
   "execution_count": null,
   "metadata": {},
   "outputs": [],
   "source": [
    "# Inicializa pygame\n",
    "pygame.init()\n",
    "\n",
    "# Inicializa la cámara (puedes elegir la cámara al igual que en el ejemplo anterior)\n",
    "\n",
    "def capture_text_from_image():\n",
    "    cap = cv2.VideoCapture(camera_index)\n",
    "\n",
    "    while True:\n",
    "        ret, frame = cap.read()\n",
    "        if not ret:\n",
    "            break\n",
    "\n",
    "        cv2.imshow(\"OCR - Stream\", frame)\n",
    "\n",
    "        # Comprueba si se ha presionado la tecla 'P' para capturar una imagen\n",
    "        key = cv2.waitKey(1)\n",
    "        if key == ord('p') or key == ord('P'):\n",
    "            # Realiza mejoras en la imagen\n",
    "            alpha = 1.5  # Ajusta este valor según tus necesidades para el contraste\n",
    "            beta = 0\n",
    "            frame_contrast = cv2.convertScaleAbs(frame, alpha=alpha, beta=beta)\n",
    "\n",
    "            gray_frame = cv2.cvtColor(frame_contrast, cv2.COLOR_BGR2GRAY)\n",
    "\n",
    "            _, binary_frame = cv2.threshold(gray_frame, 128, 255, cv2.THRESH_BINARY)\n",
    "\n",
    "            inverted_frame = cv2.bitwise_not(binary_frame)\n",
    "\n",
    "            # Guarda la imagen mejorada\n",
    "            cv2.imwrite(\"imagen_mejorada.png\", inverted_frame)\n",
    "\n",
    "            # Realiza OCR en la imagen mejorada\n",
    "            text = pytesseract.image_to_string(inverted_frame, lang=idioma_ocr)\n",
    "\n",
    "            # Aquí puedes hacer lo que necesites con el texto reconocido\n",
    "            print(\"Texto reconocido:\", text)\n",
    "\n",
    "            if text != \"\":\n",
    "                # Convierte el texto a discurso de voz\n",
    "                tts = gTTS(text, lang=idioma_tts)\n",
    "\n",
    "                # Genera un nombre de archivo único basado en el tiempo\n",
    "                timestamp = int(time.time())\n",
    "                audio_filename = f\"texto_a_voz_{timestamp}.mp3\"\n",
    "\n",
    "                tts.save(audio_filename)\n",
    "\n",
    "                # Reproduce el archivo de audio en tiempo real\n",
    "                pygame.mixer.music.load(audio_filename)\n",
    "                pygame.mixer.music.play()\n",
    "\n",
    "        # Comprueba si se ha presionado 'Esc' para salir\n",
    "        if key == 27:\n",
    "            break\n",
    "\n",
    "    cap.release()\n",
    "    cv2.destroyAllWindows()\n",
    "\n",
    "capture_text_from_image()"
   ]
  }
 ],
 "metadata": {
  "kernelspec": {
   "display_name": "Python 3",
   "language": "python",
   "name": "python3"
  },
  "language_info": {
   "codemirror_mode": {
    "name": "ipython",
    "version": 3
   },
   "file_extension": ".py",
   "mimetype": "text/x-python",
   "name": "python",
   "nbconvert_exporter": "python",
   "pygments_lexer": "ipython3",
   "version": "3.9.9"
  }
 },
 "nbformat": 4,
 "nbformat_minor": 2
}
